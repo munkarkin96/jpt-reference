{
 "cells": [
  {
   "cell_type": "code",
   "execution_count": 1,
   "metadata": {},
   "outputs": [],
   "source": [
    "import pickle\n",
    "import numpy as np\n"
   ]
  },
  {
   "cell_type": "code",
   "execution_count": 2,
   "metadata": {},
   "outputs": [
    {
     "data": {
      "text/plain": [
       "((74708, 64, 64, 3), (18677, 64, 64, 3), (74708, 1), (18677, 1))"
      ]
     },
     "execution_count": 2,
     "metadata": {},
     "output_type": "execute_result"
    }
   ],
   "source": [
    "x_train = np.load('x_train.npy')\n",
    "x_cv = np.load('x_cv.npy')\n",
    "\n",
    "y_train = np.load('y_train.npy')\n",
    "y_cv = np.load('y_cv.npy')\n",
    "\n",
    "x_train.shape, x_cv.shape, y_train.shape, y_cv.shape"
   ]
  },
  {
   "cell_type": "code",
   "execution_count": 3,
   "metadata": {},
   "outputs": [],
   "source": [
    "with open('x_test_fake_mask.pickle', 'rb') as f:\n",
    "    x_test_fake_mask = pickle.load(f)\n",
    "    \n",
    "with open('x_test_fake.pickle', 'rb') as f:\n",
    "    x_test_fake = pickle.load(f)"
   ]
  },
  {
   "cell_type": "code",
   "execution_count": 4,
   "metadata": {},
   "outputs": [
    {
     "data": {
      "text/plain": [
       "(10, 10)"
      ]
     },
     "execution_count": 4,
     "metadata": {},
     "output_type": "execute_result"
    }
   ],
   "source": [
    "len(x_test_fake_mask), len(x_test_fake)"
   ]
  },
  {
   "cell_type": "code",
   "execution_count": 5,
   "metadata": {},
   "outputs": [
    {
     "data": {
      "text/plain": [
       "(768, 1024)"
      ]
     },
     "execution_count": 5,
     "metadata": {},
     "output_type": "execute_result"
    }
   ],
   "source": [
    "x_test_fake_mask[0].shape"
   ]
  },
  {
   "cell_type": "code",
   "execution_count": 6,
   "metadata": {},
   "outputs": [
    {
     "name": "stderr",
     "output_type": "stream",
     "text": [
      "Using TensorFlow backend.\n"
     ]
    }
   ],
   "source": [
    "import keras\n",
    "from keras.models import load_model, Sequential\n",
    "from keras.layers import Dense, Flatten\n",
    "from keras.applications.resnet50 import ResNet50\n",
    "import tensorflow as tf "
   ]
  },
  {
   "cell_type": "code",
   "execution_count": 7,
   "metadata": {},
   "outputs": [
    {
     "name": "stdout",
     "output_type": "stream",
     "text": [
      "WARNING:tensorflow:From /home/karkin.mun/environments/ml_dir/lib/python3.5/site-packages/tensorflow/python/framework/op_def_library.py:263: colocate_with (from tensorflow.python.framework.ops) is deprecated and will be removed in a future version.\n",
      "Instructions for updating:\n",
      "Colocations handled automatically by placer.\n"
     ]
    }
   ],
   "source": [
    "\n",
    "#tf.config.gpu.set_per_process_memory_growth(True)\n",
    "\n",
    "\n",
    "vgg_model=keras.applications.VGG16(weights='imagenet', include_top=False, input_shape=(64,64,3))\n",
    "\n",
    "model_aug=Sequential()\n",
    "model_aug.add(vgg_model)\n",
    "\n",
    "top_model=Sequential()\n",
    "top_model.add(Flatten(input_shape=(2, 2, 512)))\n",
    "#model_aug.add(Dropout(0.3))\n",
    "top_model.add(Dense(64, activation='relu'))\n",
    "\n",
    "top_model.add(Dense(1, activation='sigmoid'))\n",
    "\n",
    "model_aug.add(top_model)\n",
    "\n",
    "for layer in model_aug.layers[0].layers[:17]:\n",
    "    layer.trainable=False\n",
    "\n",
    "model_aug.compile(loss='binary_crossentropy', optimizer=keras.optimizers.Adam(lr=1e-6), metrics=['accuracy'])"
   ]
  },
  {
   "cell_type": "code",
   "execution_count": 8,
   "metadata": {},
   "outputs": [],
   "source": [
    "import logging\n",
    "logging.basicConfig(filename = 'vgg_16.log', filemode = 'w', format='%(name)s - %(levelname)s - %(message)s', level = logging.INFO)\n",
    "\n",
    "class CustomLogging(keras.callbacks.Callback):\n",
    "\n",
    "    def on_train_begin(self, logs={}):\n",
    "        pass\n",
    " \n",
    "    def on_epoch_begin(self, epoch, logs={}):\n",
    "        logging.info(\"Epoch: {}\".format(epoch))"
   ]
  },
  {
   "cell_type": "code",
   "execution_count": 9,
   "metadata": {},
   "outputs": [
    {
     "name": "stdout",
     "output_type": "stream",
     "text": [
      "WARNING:tensorflow:From /home/karkin.mun/environments/ml_dir/lib/python3.5/site-packages/tensorflow/python/ops/math_ops.py:3066: to_int32 (from tensorflow.python.ops.math_ops) is deprecated and will be removed in a future version.\n",
      "Instructions for updating:\n",
      "Use tf.cast instead.\n"
     ]
    }
   ],
   "source": [
    "#model_aug.load_weights(resume_weights)\n",
    "\n",
    "from keras.callbacks import EarlyStopping, ModelCheckpoint, ReduceLROnPlateau\n",
    "\n",
    "callbacks = [EarlyStopping(monitor='val_loss', patience=2),\n",
    "             ModelCheckpoint(filepath='best_model.h5', monitor='val_loss', save_best_only=True),\n",
    "             ReduceLROnPlateau(monitor='val_loss', factor=0.2, patience=2, min_lr=0.000001, verbose=1),\n",
    "             CustomLogging()]\n",
    "\n",
    "model_aug = load_model('best_model.h5')"
   ]
  },
  {
   "cell_type": "code",
   "execution_count": null,
   "metadata": {},
   "outputs": [
    {
     "name": "stdout",
     "output_type": "stream",
     "text": [
      "Train on 74708 samples, validate on 18677 samples\n",
      "Epoch 1/100\n",
      "74708/74708 [==============================] - 1389s 19ms/step - loss: 0.2676 - acc: 0.8898 - val_loss: 0.6396 - val_acc: 0.7600\n",
      "Epoch 2/100\n",
      "74708/74708 [==============================] - 1421s 19ms/step - loss: 0.2566 - acc: 0.8958 - val_loss: 0.6350 - val_acc: 0.7626\n",
      "Epoch 3/100\n",
      "74708/74708 [==============================] - 1354s 18ms/step - loss: 0.2462 - acc: 0.9013 - val_loss: 0.6293 - val_acc: 0.7649\n",
      "Epoch 4/100\n",
      "74708/74708 [==============================] - 1355s 18ms/step - loss: 0.2366 - acc: 0.9062 - val_loss: 0.6247 - val_acc: 0.7691\n",
      "Epoch 5/100\n",
      "74708/74708 [==============================] - 1358s 18ms/step - loss: 0.2274 - acc: 0.9111 - val_loss: 0.6202 - val_acc: 0.7725\n",
      "Epoch 6/100\n",
      "74708/74708 [==============================] - 1429s 19ms/step - loss: 0.2187 - acc: 0.9155 - val_loss: 0.6165 - val_acc: 0.7734\n",
      "Epoch 7/100\n",
      "74708/74708 [==============================] - 1347s 18ms/step - loss: 0.2106 - acc: 0.9197 - val_loss: 0.6122 - val_acc: 0.7779\n",
      "Epoch 8/100\n",
      "74708/74708 [==============================] - 1397s 19ms/step - loss: 0.2028 - acc: 0.9236 - val_loss: 0.6095 - val_acc: 0.7790\n",
      "Epoch 9/100\n",
      "12384/74708 [===>..........................] - ETA: 15:28 - loss: 0.1917 - acc: 0.9295"
     ]
    }
   ],
   "source": [
    "history = model_aug.fit(x_train, y_train, epochs = 100, verbose = 1, validation_data=(x_cv, y_cv), callbacks=callbacks) #)"
   ]
  },
  {
   "cell_type": "code",
   "execution_count": null,
   "metadata": {},
   "outputs": [],
   "source": [
    "logging.basicConfig(filename = 'vgg_16.log', filemode = 'w', format='%(name)s - %(levelname)s - %(message)s', level = logging.INFO)"
   ]
  },
  {
   "cell_type": "code",
   "execution_count": null,
   "metadata": {},
   "outputs": [],
   "source": [
    "model_aug.save(\"vgg16.h5\")\n",
    "logging.info(\"Saved model to disk\")"
   ]
  },
  {
   "cell_type": "code",
   "execution_count": null,
   "metadata": {},
   "outputs": [],
   "source": [
    "with open('vgg16_history.pickle', 'wb') as f:\n",
    "    pickle.dump(history, f)"
   ]
  },
  {
   "cell_type": "code",
   "execution_count": null,
   "metadata": {},
   "outputs": [],
   "source": [
    "logging.info('dumped history into pickle')"
   ]
  },
  {
   "cell_type": "code",
   "execution_count": null,
   "metadata": {},
   "outputs": [],
   "source": []
  },
  {
   "cell_type": "code",
   "execution_count": null,
   "metadata": {},
   "outputs": [],
   "source": []
  },
  {
   "cell_type": "code",
   "execution_count": null,
   "metadata": {},
   "outputs": [],
   "source": []
  }
 ],
 "metadata": {
  "kernelspec": {
   "display_name": "Python 3",
   "language": "python",
   "name": "python3"
  },
  "language_info": {
   "codemirror_mode": {
    "name": "ipython",
    "version": 3
   },
   "file_extension": ".py",
   "mimetype": "text/x-python",
   "name": "python",
   "nbconvert_exporter": "python",
   "pygments_lexer": "ipython3",
   "version": "3.5.2"
  }
 },
 "nbformat": 4,
 "nbformat_minor": 2
}
