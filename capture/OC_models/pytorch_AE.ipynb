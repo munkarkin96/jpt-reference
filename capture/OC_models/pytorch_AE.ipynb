{
 "cells": [
  {
   "cell_type": "code",
   "execution_count": 1,
   "metadata": {},
   "outputs": [
    {
     "name": "stderr",
     "output_type": "stream",
     "text": [
      "Using TensorFlow backend.\n"
     ]
    },
    {
     "name": "stdout",
     "output_type": "stream",
     "text": [
      "[name: \"/device:CPU:0\"\n",
      "device_type: \"CPU\"\n",
      "memory_limit: 268435456\n",
      "locality {\n",
      "}\n",
      "incarnation: 7074777163242194340\n",
      ", name: \"/device:XLA_GPU:0\"\n",
      "device_type: \"XLA_GPU\"\n",
      "memory_limit: 17179869184\n",
      "locality {\n",
      "}\n",
      "incarnation: 13988265916239062030\n",
      "physical_device_desc: \"device: XLA_GPU device\"\n",
      ", name: \"/device:XLA_CPU:0\"\n",
      "device_type: \"XLA_CPU\"\n",
      "memory_limit: 17179869184\n",
      "locality {\n",
      "}\n",
      "incarnation: 9684141339044209816\n",
      "physical_device_desc: \"device: XLA_CPU device\"\n",
      ", name: \"/device:GPU:0\"\n",
      "device_type: \"GPU\"\n",
      "memory_limit: 10585558221\n",
      "locality {\n",
      "  bus_id: 1\n",
      "  links {\n",
      "  }\n",
      "}\n",
      "incarnation: 16660980158945540368\n",
      "physical_device_desc: \"device: 0, name: GeForce GTX 1080 Ti, pci bus id: 0000:08:00.0, compute capability: 6.1\"\n",
      "]\n"
     ]
    }
   ],
   "source": [
    "import pickle\n",
    "import numpy as np \n",
    "\n",
    "from sklearn.model_selection import train_test_split\n",
    "\n",
    "import keras\n",
    "from keras.models import load_model, Sequential\n",
    "from keras.layers import Dense, Flatten\n",
    "from keras.applications.resnet50 import ResNet50\n",
    "\n",
    "\n",
    "import torch\n",
    "from torch.utils.data import DataLoader, Dataset\n",
    "import torchvision\n",
    "from torchvision import transforms\n",
    "import torch \n",
    "import torch.nn as nn\n",
    "import torchvision\n",
    "import torchvision.transforms as transforms\n",
    "from torchvision.utils import save_image\n",
    "\n",
    "# from tqdm import tqdm_notebook, tnrange\n",
    "\n",
    "import pandas as pd\n",
    "\n",
    "import tensorflow as tf\n",
    "\n",
    "import matplotlib.pyplot as plt \n",
    "\n",
    "\n",
    "config = tf.ConfigProto( device_count = {'GPU': 1 , 'CPU': 56} ) \n",
    "sess = tf.Session(config=config) \n",
    "keras.backend.set_session(sess)\n",
    "\n",
    "device = torch.device('cuda:0' if torch.cuda.is_available() else 'cpu')\n",
    "\n",
    "from tensorflow.python.client import device_lib\n",
    "print(device_lib.list_local_devices())"
   ]
  },
  {
   "cell_type": "code",
   "execution_count": 2,
   "metadata": {},
   "outputs": [
    {
     "data": {
      "text/plain": [
       "((74708, 12288), (18677, 12288))"
      ]
     },
     "execution_count": 2,
     "metadata": {},
     "output_type": "execute_result"
    }
   ],
   "source": [
    "x_train = np.load('x_train.npy')\n",
    "x_cv = np.load('x_cv.npy')\n",
    "\n",
    "y_train = np.load('y_train.npy')\n",
    "y_cv = np.load('y_cv.npy')\n",
    "\n",
    "X_train_flattened = [] \n",
    "\n",
    "for i in range(len(x_train)):\n",
    "    X_train_flattened.append(x_train[i].flatten())\n",
    "    \n",
    "X_cv_flattened = []\n",
    "\n",
    "for i in range(len(x_cv)):\n",
    "    X_cv_flattened.append(x_cv[i].flatten() )\n",
    "    \n",
    "X_cv_flattened = np.array(X_cv_flattened).astype('float32') / 255.\n",
    "X_train_flattened = np.array(X_train_flattened).astype('float32') / 255.\n",
    "    \n",
    "X_train_flattened.shape, X_cv_flattened.shape"
   ]
  },
  {
   "cell_type": "code",
   "execution_count": 3,
   "metadata": {},
   "outputs": [],
   "source": [
    "class MyDataset(Dataset):\n",
    "  def __init__(self, X, transform):\n",
    "    self.X = X \n",
    "    self.transform = transform \n",
    "    \n",
    "  def __len__(self):\n",
    "    return len(self.X)\n",
    "  \n",
    "  def __getitem__(self, idx):\n",
    "    \n",
    "    if self.transform:\n",
    "      self.X[idx] = self.transform(self.X[idx])\n",
    "      \n",
    "    return self.X[idx], self.X[idx]"
   ]
  },
  {
   "cell_type": "code",
   "execution_count": 4,
   "metadata": {},
   "outputs": [],
   "source": [
    "class autoencoder(nn.Module):\n",
    "    def __init__(self):\n",
    "        super(autoencoder, self).__init__()\n",
    "        self.encoder = nn.Sequential(\n",
    "            # nn.Linear(#input_nodes, #output_nodes)\n",
    "            nn.Linear(64*64*3, 5000),\n",
    "            nn.ReLU(True),\n",
    "            nn.Linear(5000, 1000),\n",
    "            nn.ReLU(True),\n",
    "            nn.Linear(1000, 300),\n",
    "            nn.ReLU(True),\n",
    "            nn.Linear(300, 100),\n",
    "            nn.ReLU(True))\n",
    "        \n",
    "        self.decoder = nn.Sequential(\n",
    "            nn.Linear(100, 300),\n",
    "            nn.ReLU(True),\n",
    "            nn.Linear(300, 1000),\n",
    "            nn.ReLU(True),\n",
    "            nn.Linear(1000, 5000),\n",
    "            nn.ReLU(True), \n",
    "            nn.Linear(5000, 64*64*3),\n",
    "            nn.Sigmoid())\n",
    "\n",
    "    def forward(self, x):\n",
    "        x = self.encoder(x)\n",
    "        x = self.decoder(x)\n",
    "        return x"
   ]
  },
  {
   "cell_type": "code",
   "execution_count": 5,
   "metadata": {},
   "outputs": [],
   "source": [
    "my_X_train = MyDataset(X_train_flattened, None)\n",
    "\n",
    "data_loader = torch.utils.data.DataLoader(dataset=my_X_train, batch_size = 256, shuffle = True)"
   ]
  },
  {
   "cell_type": "code",
   "execution_count": 6,
   "metadata": {},
   "outputs": [],
   "source": [
    "def to_img(x):\n",
    "    x = x.view(x.size(0), 3, 64, 64)\n",
    "    return x\n"
   ]
  },
  {
   "cell_type": "code",
   "execution_count": 10,
   "metadata": {},
   "outputs": [
    {
     "name": "stdout",
     "output_type": "stream",
     "text": [
      "epoch [1/100], loss:0.6037, MSE_loss:0.0207\n",
      "epoch [2/100], loss:0.6131, MSE_loss:0.0262\n",
      "epoch [3/100], loss:0.5977, MSE_loss:0.0229\n",
      "epoch [4/100], loss:0.5832, MSE_loss:0.0202\n",
      "epoch [5/100], loss:0.5777, MSE_loss:0.0146\n",
      "epoch [6/100], loss:0.5731, MSE_loss:0.0138\n",
      "epoch [7/100], loss:0.5725, MSE_loss:0.0125\n",
      "epoch [8/100], loss:0.5559, MSE_loss:0.0120\n",
      "epoch [9/100], loss:0.5607, MSE_loss:0.0134\n",
      "epoch [10/100], loss:0.5726, MSE_loss:0.0127\n",
      "epoch [11/100], loss:0.5588, MSE_loss:0.0140\n",
      "epoch [12/100], loss:0.5620, MSE_loss:0.0113\n",
      "epoch [13/100], loss:0.5771, MSE_loss:0.0142\n",
      "epoch [14/100], loss:0.5755, MSE_loss:0.0107\n",
      "epoch [15/100], loss:0.5639, MSE_loss:0.0125\n",
      "epoch [16/100], loss:0.5447, MSE_loss:0.0133\n",
      "epoch [17/100], loss:0.5712, MSE_loss:0.0115\n",
      "epoch [18/100], loss:0.5697, MSE_loss:0.0113\n",
      "epoch [19/100], loss:0.5649, MSE_loss:0.0110\n",
      "epoch [20/100], loss:0.5797, MSE_loss:0.0121\n",
      "epoch [21/100], loss:0.5668, MSE_loss:0.0127\n",
      "epoch [22/100], loss:0.5652, MSE_loss:0.0116\n",
      "epoch [23/100], loss:0.5660, MSE_loss:0.0121\n",
      "epoch [24/100], loss:0.5858, MSE_loss:0.0099\n",
      "epoch [25/100], loss:0.5753, MSE_loss:0.0115\n",
      "epoch [26/100], loss:0.5558, MSE_loss:0.0113\n",
      "epoch [27/100], loss:0.5643, MSE_loss:0.0119\n",
      "epoch [28/100], loss:0.5768, MSE_loss:0.0130\n",
      "epoch [29/100], loss:0.5701, MSE_loss:0.0119\n",
      "epoch [30/100], loss:0.5805, MSE_loss:0.0109\n",
      "epoch [31/100], loss:0.5581, MSE_loss:0.0132\n",
      "epoch [32/100], loss:0.5907, MSE_loss:0.0096\n",
      "epoch [33/100], loss:0.5590, MSE_loss:0.0095\n",
      "epoch [34/100], loss:0.5777, MSE_loss:0.0102\n",
      "epoch [35/100], loss:0.5657, MSE_loss:0.0119\n",
      "epoch [36/100], loss:0.5754, MSE_loss:0.0120\n",
      "epoch [37/100], loss:0.5702, MSE_loss:0.0094\n",
      "epoch [38/100], loss:0.5649, MSE_loss:0.0104\n",
      "epoch [39/100], loss:0.5708, MSE_loss:0.0106\n",
      "epoch [40/100], loss:0.5616, MSE_loss:0.0117\n",
      "epoch [41/100], loss:0.5711, MSE_loss:0.0090\n",
      "epoch [42/100], loss:0.5703, MSE_loss:0.0113\n",
      "epoch [43/100], loss:0.5592, MSE_loss:0.0103\n",
      "epoch [44/100], loss:0.5628, MSE_loss:0.0096\n",
      "epoch [45/100], loss:0.5773, MSE_loss:0.0101\n",
      "epoch [46/100], loss:0.5801, MSE_loss:0.0104\n",
      "epoch [47/100], loss:0.5713, MSE_loss:0.0110\n",
      "epoch [48/100], loss:0.5686, MSE_loss:0.0097\n",
      "epoch [49/100], loss:0.5675, MSE_loss:0.0087\n",
      "epoch [50/100], loss:0.5682, MSE_loss:0.0092\n",
      "epoch [51/100], loss:0.5699, MSE_loss:0.0113\n",
      "epoch [52/100], loss:0.5728, MSE_loss:0.0091\n",
      "epoch [53/100], loss:0.5705, MSE_loss:0.0095\n",
      "epoch [54/100], loss:0.5685, MSE_loss:0.0087\n",
      "epoch [55/100], loss:0.5505, MSE_loss:0.0103\n",
      "epoch [56/100], loss:0.5687, MSE_loss:0.0100\n",
      "epoch [57/100], loss:0.5489, MSE_loss:0.0093\n",
      "epoch [58/100], loss:0.5480, MSE_loss:0.0114\n",
      "epoch [59/100], loss:0.5525, MSE_loss:0.0095\n",
      "epoch [60/100], loss:0.5680, MSE_loss:0.0102\n",
      "epoch [61/100], loss:0.5663, MSE_loss:0.0094\n",
      "epoch [62/100], loss:0.5793, MSE_loss:0.0102\n",
      "epoch [63/100], loss:0.5584, MSE_loss:0.0085\n",
      "epoch [64/100], loss:0.5823, MSE_loss:0.0103\n",
      "epoch [65/100], loss:0.5613, MSE_loss:0.0097\n",
      "epoch [66/100], loss:0.5512, MSE_loss:0.0099\n",
      "epoch [67/100], loss:0.5477, MSE_loss:0.0103\n",
      "epoch [68/100], loss:0.5622, MSE_loss:0.0092\n",
      "epoch [69/100], loss:0.5618, MSE_loss:0.0078\n",
      "epoch [70/100], loss:0.5677, MSE_loss:0.0098\n",
      "epoch [71/100], loss:0.5418, MSE_loss:0.0090\n",
      "epoch [72/100], loss:0.5541, MSE_loss:0.0086\n",
      "epoch [73/100], loss:0.5708, MSE_loss:0.0088\n",
      "epoch [74/100], loss:0.5768, MSE_loss:0.0101\n",
      "epoch [75/100], loss:0.5433, MSE_loss:0.0105\n",
      "epoch [76/100], loss:0.5800, MSE_loss:0.0070\n",
      "epoch [77/100], loss:0.5707, MSE_loss:0.0082\n",
      "epoch [78/100], loss:0.5580, MSE_loss:0.0104\n",
      "epoch [79/100], loss:0.5656, MSE_loss:0.0083\n",
      "epoch [80/100], loss:0.5692, MSE_loss:0.0110\n",
      "epoch [81/100], loss:0.5712, MSE_loss:0.0090\n",
      "epoch [82/100], loss:0.5579, MSE_loss:0.0090\n",
      "epoch [83/100], loss:0.5719, MSE_loss:0.0091\n",
      "epoch [84/100], loss:0.5581, MSE_loss:0.0095\n",
      "epoch [85/100], loss:0.5597, MSE_loss:0.0091\n",
      "epoch [86/100], loss:0.5679, MSE_loss:0.0097\n",
      "epoch [87/100], loss:0.5601, MSE_loss:0.0079\n",
      "epoch [88/100], loss:0.5670, MSE_loss:0.0085\n",
      "epoch [89/100], loss:0.5616, MSE_loss:0.0089\n",
      "epoch [90/100], loss:0.5731, MSE_loss:0.0104\n",
      "epoch [91/100], loss:0.5586, MSE_loss:0.0099\n",
      "epoch [92/100], loss:0.5592, MSE_loss:0.0099\n",
      "epoch [93/100], loss:0.5697, MSE_loss:0.0088\n",
      "epoch [94/100], loss:0.5610, MSE_loss:0.0099\n",
      "epoch [95/100], loss:0.5662, MSE_loss:0.0116\n",
      "epoch [96/100], loss:0.5616, MSE_loss:0.0096\n",
      "epoch [97/100], loss:0.5695, MSE_loss:0.0107\n",
      "epoch [98/100], loss:0.5776, MSE_loss:0.0093\n",
      "epoch [99/100], loss:0.5753, MSE_loss:0.0096\n",
      "epoch [100/100], loss:0.5637, MSE_loss:0.0085\n"
     ]
    }
   ],
   "source": [
    "num_epochs = 100\n",
    "learning_rate = 1e-3\n",
    "\n",
    "\n",
    "model = autoencoder().cuda()\n",
    "criterion = nn.BCELoss()\n",
    "optimizer = torch.optim.Adam(\n",
    "    model.parameters(), lr=learning_rate, weight_decay=1e-5)\n",
    "\n",
    "\n",
    "for epoch in range(num_epochs):\n",
    "  for i, (img, _) in enumerate(data_loader):\n",
    "    \n",
    "    # test = img[0].reshape((64, 64, 3))\n",
    "\n",
    "    img = img.cuda()\n",
    "    output = model(img)\n",
    "    loss = criterion(output, img)\n",
    "    MSE_loss = nn.MSELoss()(output, img)\n",
    "    \n",
    "    optimizer.zero_grad()\n",
    "    loss.backward()\n",
    "    optimizer.step()\n",
    "    \n",
    "  print('epoch [{}/{}], loss:{:.4f}, MSE_loss:{:.4f}'\n",
    "        .format(epoch + 1, num_epochs, loss.data, MSE_loss.data))\n",
    "    \n",
    "  if epoch % 5 == 0:\n",
    "      x = to_img(img.cpu().data)\n",
    "      x_hat = to_img(output.cpu().data)\n",
    "      save_image(x, 'img/x_{}.png'.format(epoch))\n",
    "      save_image(x_hat, 'img/x_hat_{}.png'.format(epoch))\n"
   ]
  },
  {
   "cell_type": "code",
   "execution_count": null,
   "metadata": {},
   "outputs": [],
   "source": []
  },
  {
   "cell_type": "code",
   "execution_count": 13,
   "metadata": {},
   "outputs": [
    {
     "data": {
      "text/plain": [
       "<matplotlib.image.AxesImage at 0x7f13dc16bdd8>"
      ]
     },
     "execution_count": 13,
     "metadata": {},
     "output_type": "execute_result"
    },
    {
     "data": {
      "image/png": "[encoded data removed]",
      "text/plain": [
       "<Figure size 432x288 with 1 Axes>"
      ]
     },
     "metadata": {
      "needs_background": "light"
     },
     "output_type": "display_data"
    }
   ],
   "source": [
    "for i, (img, _) in enumerate(data_loader):\n",
    "\n",
    "  test = img[145].reshape((64, 64, 3))\n",
    "  break\n",
    "    \n",
    "output = model(test.reshape((1, 64*64*3)).cuda())\n",
    "plt.imshow(output.cpu().detach().numpy().reshape((64, 64, 3)))"
   ]
  },
  {
   "cell_type": "code",
   "execution_count": 14,
   "metadata": {},
   "outputs": [
    {
     "data": {
      "text/plain": [
       "<matplotlib.image.AxesImage at 0x7f13c46a0b38>"
      ]
     },
     "execution_count": 14,
     "metadata": {},
     "output_type": "execute_result"
    },
    {
     "data": {
      "image/png": "[encoded data removed]",
      "text/plain": [
       "<Figure size 432x288 with 1 Axes>"
      ]
     },
     "metadata": {
      "needs_background": "light"
     },
     "output_type": "display_data"
    }
   ],
   "source": [
    "plt.imshow(test)"
   ]
  },
  {
   "cell_type": "code",
   "execution_count": null,
   "metadata": {},
   "outputs": [],
   "source": []
  },
  {
   "cell_type": "code",
   "execution_count": null,
   "metadata": {},
   "outputs": [],
   "source": []
  },
  {
   "cell_type": "code",
   "execution_count": null,
   "metadata": {},
   "outputs": [],
   "source": []
  },
  {
   "cell_type": "code",
   "execution_count": null,
   "metadata": {},
   "outputs": [],
   "source": []
  },
  {
   "cell_type": "code",
   "execution_count": null,
   "metadata": {},
   "outputs": [],
   "source": []
  },
  {
   "cell_type": "code",
   "execution_count": null,
   "metadata": {},
   "outputs": [],
   "source": []
  },
  {
   "cell_type": "code",
   "execution_count": null,
   "metadata": {},
   "outputs": [],
   "source": []
  },
  {
   "cell_type": "code",
   "execution_count": null,
   "metadata": {},
   "outputs": [],
   "source": []
  },
  {
   "cell_type": "code",
   "execution_count": null,
   "metadata": {},
   "outputs": [],
   "source": []
  },
  {
   "cell_type": "code",
   "execution_count": null,
   "metadata": {},
   "outputs": [],
   "source": []
  },
  {
   "cell_type": "code",
   "execution_count": null,
   "metadata": {},
   "outputs": [],
   "source": []
  },
  {
   "cell_type": "code",
   "execution_count": null,
   "metadata": {},
   "outputs": [],
   "source": []
  },
  {
   "cell_type": "code",
   "execution_count": null,
   "metadata": {},
   "outputs": [],
   "source": []
  },
  {
   "cell_type": "code",
   "execution_count": null,
   "metadata": {},
   "outputs": [],
   "source": []
  },
  {
   "cell_type": "code",
   "execution_count": null,
   "metadata": {},
   "outputs": [],
   "source": []
  },
  {
   "cell_type": "code",
   "execution_count": null,
   "metadata": {},
   "outputs": [],
   "source": []
  },
  {
   "cell_type": "code",
   "execution_count": null,
   "metadata": {},
   "outputs": [],
   "source": []
  },
  {
   "cell_type": "code",
   "execution_count": null,
   "metadata": {},
   "outputs": [],
   "source": []
  },
  {
   "cell_type": "code",
   "execution_count": null,
   "metadata": {},
   "outputs": [],
   "source": []
  }
 ],
 "metadata": {
  "kernelspec": {
   "display_name": "Python 3",
   "language": "python",
   "name": "python3"
  },
  "language_info": {
   "codemirror_mode": {
    "name": "ipython",
    "version": 3
   },
   "file_extension": ".py",
   "mimetype": "text/x-python",
   "name": "python",
   "nbconvert_exporter": "python",
   "pygments_lexer": "ipython3",
   "version": "3.5.2"
  }
 },
 "nbformat": 4,
 "nbformat_minor": 2
}
