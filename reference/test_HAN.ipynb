{
 "cells": [
  {
   "cell_type": "code",
   "execution_count": 1,
   "metadata": {},
   "outputs": [
    {
     "name": "stderr",
     "output_type": "stream",
     "text": [
      "Using TensorFlow backend.\n"
     ]
    },
    {
     "data": {
      "text/plain": [
       "'\\nREFERENCE\\n---------\\n\\nhttps://www.kaggle.com/hsankesara/news-classification-using-han/notebook\\nhttps://medium.com/analytics-vidhya/hierarchical-attention-networks-d220318cf87e\\n\\n'"
      ]
     },
     "execution_count": 1,
     "metadata": {},
     "output_type": "execute_result"
    }
   ],
   "source": [
    "import pandas as pd\n",
    "import numpy as np\n",
    "from keras.preprocessing.text import Tokenizer,  text_to_word_sequence\n",
    "from keras.engine.topology import Layer\n",
    "from keras import initializers as initializers, regularizers, constraints\n",
    "from keras.callbacks import Callback, ModelCheckpoint\n",
    "from keras.utils.np_utils import to_categorical\n",
    "from keras.layers import Embedding, Input, Dense, LSTM, GRU, Bidirectional, TimeDistributed, Dropout\n",
    "from keras import backend as K\n",
    "from keras import optimizers\n",
    "from keras.models import Model\n",
    "import nltk\n",
    "import re\n",
    "import matplotlib.pyplot as plt\n",
    "import sys\n",
    "from sklearn.metrics import roc_auc_score\n",
    "from nltk import tokenize\n",
    "import seaborn as sns\n",
    "\n",
    "\"\"\"\n",
    "REFERENCE\n",
    "---------\n",
    "\n",
    "https://www.kaggle.com/hsankesara/news-classification-using-han/notebook\n",
    "https://medium.com/analytics-vidhya/hierarchical-attention-networks-d220318cf87e\n",
    "\n",
    "\"\"\""
   ]
  },
  {
   "cell_type": "code",
   "execution_count": 2,
   "metadata": {},
   "outputs": [],
   "source": [
    "def dot_product(x, kernel):\n",
    "    \"\"\"\n",
    "    Wrapper for dot product operation, in order to be compatibl|e with both\n",
    "    Theano and Tensorflow\n",
    "    Args:\n",
    "        x (): input\n",
    "        kernel (): weights\n",
    "    Returns:\n",
    "    \"\"\"\n",
    "    if K.backend() == 'tensorflow':\n",
    "        return K.squeeze(K.dot(x, K.expand_dims(kernel)), axis=-1)\n",
    "    else:\n",
    "        return K.dot(x, kernel)\n",
    "\n",
    "class AttentionWithContext(Layer):\n",
    "    \"\"\"\n",
    "    Attention operation, with a context/query vector, for temporal data.\n",
    "    Supports Masking.\n",
    "    Follows the work of Yang et al. [https://www.cs.cmu.edu/~diyiy/docs/naacl16.pdf]\n",
    "    \"Hierarchical Attention Networks for Document Classification\"\n",
    "    by using a context vector to assist the attention\n",
    "    # Input shape\n",
    "        3D tensor with shape: `(samples, steps, features)`.\n",
    "    # Output shape\n",
    "        2D tensor with shape: `(samples, features)`.\n",
    "    How to use:\n",
    "    Just put it on top of an RNN Layer (GRU/LSTM/SimpleRNN) with return_sequences=True.\n",
    "    The dimensions are inferred based on the output shape of the RNN.\n",
    "    Note: The layer has been tested with Keras 2.0.6\n",
    "    Example:\n",
    "        model.add(LSTM(64, return_sequences=True))\n",
    "        model.add(AttentionWithContext())\n",
    "        # next add a Dense layer (for classification/regression) or whatever...\n",
    "    \"\"\"\n",
    "\n",
    "    def __init__(self,\n",
    "                 W_regularizer=None, u_regularizer=None, b_regularizer=None,\n",
    "                 W_constraint=None, u_constraint=None, b_constraint=None,\n",
    "                 bias=True, **kwargs):\n",
    "\n",
    "        self.supports_masking = True\n",
    "        self.init = initializers.get('glorot_uniform')\n",
    "\n",
    "        self.W_regularizer = regularizers.get(W_regularizer)\n",
    "        self.u_regularizer = regularizers.get(u_regularizer)\n",
    "        self.b_regularizer = regularizers.get(b_regularizer)\n",
    "\n",
    "        self.W_constraint = constraints.get(W_constraint)\n",
    "        self.u_constraint = constraints.get(u_constraint)\n",
    "        self.b_constraint = constraints.get(b_constraint)\n",
    "\n",
    "        self.bias = bias\n",
    "        super(AttentionWithContext, self).__init__(**kwargs)\n",
    "\n",
    "    def build(self, input_shape):\n",
    "        assert len(input_shape) == 3\n",
    "\n",
    "        self.W = self.add_weight((input_shape[-1], input_shape[-1],),\n",
    "                                 initializer=self.init,\n",
    "                                 name='{}_W'.format(self.name),\n",
    "                                 regularizer=self.W_regularizer,\n",
    "                                 constraint=self.W_constraint)\n",
    "        if self.bias:\n",
    "            self.b = self.add_weight((input_shape[-1],),\n",
    "                                     initializer='zero',\n",
    "                                     name='{}_b'.format(self.name),\n",
    "                                     regularizer=self.b_regularizer,\n",
    "                                     constraint=self.b_constraint)\n",
    "\n",
    "        self.u = self.add_weight((input_shape[-1],),\n",
    "                                 initializer=self.init,\n",
    "                                 name='{}_u'.format(self.name),\n",
    "                                 regularizer=self.u_regularizer,\n",
    "                                 constraint=self.u_constraint)\n",
    "\n",
    "        super(AttentionWithContext, self).build(input_shape)\n",
    "\n",
    "    def compute_mask(self, input, input_mask=None):\n",
    "        # do not pass the mask to the next layers\n",
    "        return None\n",
    "\n",
    "    def call(self, x, mask=None):\n",
    "        uit = dot_product(x, self.W)\n",
    "\n",
    "        if self.bias:\n",
    "            uit += self.b\n",
    "\n",
    "        uit = K.tanh(uit)\n",
    "        ait = dot_product(uit, self.u)\n",
    "\n",
    "        a = K.exp(ait)\n",
    "\n",
    "        # apply mask after the exp. will be re-normalized next\n",
    "        if mask is not None:\n",
    "            # Cast the mask to floatX to avoid float64 upcasting in theano\n",
    "            a *= K.cast(mask, K.floatx())\n",
    "\n",
    "        # in some cases especially in the early stages of training the sum may be almost zero\n",
    "        # and this results in NaN's. A workaround is to add a very small positive number ε to the sum.\n",
    "        # a /= K.cast(K.sum(a, axis=1, keepdims=True), K.floatx())\n",
    "        a /= K.cast(K.sum(a, axis=1, keepdims=True) + K.epsilon(), K.floatx())\n",
    "\n",
    "        a = K.expand_dims(a)\n",
    "        weighted_input = x * a\n",
    "        return K.sum(weighted_input, axis=1)\n",
    "\n",
    "    def compute_output_shape(self, input_shape):\n",
    "        return input_shape[0], input_shape[-1]"
   ]
  },
  {
   "cell_type": "code",
   "execution_count": 3,
   "metadata": {},
   "outputs": [],
   "source": [
    "max_features=200000\n",
    "max_senten_len=40\n",
    "max_senten_num=6\n",
    "embed_size=100\n",
    "VALIDATION_SPLIT = 0.2"
   ]
  },
  {
   "cell_type": "code",
   "execution_count": 4,
   "metadata": {},
   "outputs": [],
   "source": [
    "from sklearn.utils import shuffle\n",
    "\n",
    "df = shuffle(pd.read_json('News_Category_Dataset_v2.json', lines=True)).reset_index()"
   ]
  },
  {
   "cell_type": "code",
   "execution_count": 5,
   "metadata": {},
   "outputs": [
    {
     "data": {
      "text/html": [
       "<div>\n",
       "<style scoped>\n",
       "    .dataframe tbody tr th:only-of-type {\n",
       "        vertical-align: middle;\n",
       "    }\n",
       "\n",
       "    .dataframe tbody tr th {\n",
       "        vertical-align: top;\n",
       "    }\n",
       "\n",
       "    .dataframe thead th {\n",
       "        text-align: right;\n",
       "    }\n",
       "</style>\n",
       "<table border=\"1\" class=\"dataframe\">\n",
       "  <thead>\n",
       "    <tr style=\"text-align: right;\">\n",
       "      <th></th>\n",
       "      <th>index</th>\n",
       "      <th>authors</th>\n",
       "      <th>category</th>\n",
       "      <th>date</th>\n",
       "      <th>headline</th>\n",
       "      <th>link</th>\n",
       "      <th>short_description</th>\n",
       "    </tr>\n",
       "  </thead>\n",
       "  <tbody>\n",
       "    <tr>\n",
       "      <th>0</th>\n",
       "      <td>33886</td>\n",
       "      <td>Jamie Feldman</td>\n",
       "      <td>STYLE</td>\n",
       "      <td>2017-02-20</td>\n",
       "      <td>Feast Your Eyes On This Bonkers Doughnut Dress...</td>\n",
       "      <td>https://www.huffingtonpost.com/entry/doughnut-...</td>\n",
       "      <td>Do-nut lie, this dress is making you hungry.</td>\n",
       "    </tr>\n",
       "    <tr>\n",
       "      <th>1</th>\n",
       "      <td>123481</td>\n",
       "      <td>Andres Jauregui</td>\n",
       "      <td>CRIME</td>\n",
       "      <td>2014-05-06</td>\n",
       "      <td>Wisconsin Boy, 3, Shoots Self In Head With Mom...</td>\n",
       "      <td>https://www.huffingtonpost.com/entry/wisconsin...</td>\n",
       "      <td></td>\n",
       "    </tr>\n",
       "    <tr>\n",
       "      <th>2</th>\n",
       "      <td>137561</td>\n",
       "      <td>Megan Mayer</td>\n",
       "      <td>STYLE &amp; BEAUTY</td>\n",
       "      <td>2013-12-03</td>\n",
       "      <td>Amanda Seyfried Has The Hair Of A Mythological...</td>\n",
       "      <td>https://www.huffingtonpost.com/entry/amanda-se...</td>\n",
       "      <td>It can attain that impossible state between wa...</td>\n",
       "    </tr>\n",
       "    <tr>\n",
       "      <th>3</th>\n",
       "      <td>13825</td>\n",
       "      <td>Richard (RJ) Eskow, ContributorHost of 'The Ze...</td>\n",
       "      <td>POLITICS</td>\n",
       "      <td>2017-10-18</td>\n",
       "      <td>How To Profit From The Coming Trump Apocalypse</td>\n",
       "      <td>https://www.huffingtonpost.com/entry/how-to-pr...</td>\n",
       "      <td>Somebody ought to write a self-help book for R...</td>\n",
       "    </tr>\n",
       "    <tr>\n",
       "      <th>4</th>\n",
       "      <td>89695</td>\n",
       "      <td>Kimberly Inskeep, ContributorPresident &amp; Chief...</td>\n",
       "      <td>WOMEN</td>\n",
       "      <td>2015-05-29</td>\n",
       "      <td>The Third Option: More Than Both Having and Ea...</td>\n",
       "      <td>https://www.huffingtonpost.com/entry/the-third...</td>\n",
       "      <td>When making a decision, it often feels like th...</td>\n",
       "    </tr>\n",
       "  </tbody>\n",
       "</table>\n",
       "</div>"
      ],
      "text/plain": [
       "    index                                            authors        category  \\\n",
       "0   33886                                      Jamie Feldman           STYLE   \n",
       "1  123481                                    Andres Jauregui           CRIME   \n",
       "2  137561                                        Megan Mayer  STYLE & BEAUTY   \n",
       "3   13825  Richard (RJ) Eskow, ContributorHost of 'The Ze...        POLITICS   \n",
       "4   89695  Kimberly Inskeep, ContributorPresident & Chief...           WOMEN   \n",
       "\n",
       "        date                                           headline  \\\n",
       "0 2017-02-20  Feast Your Eyes On This Bonkers Doughnut Dress...   \n",
       "1 2014-05-06  Wisconsin Boy, 3, Shoots Self In Head With Mom...   \n",
       "2 2013-12-03  Amanda Seyfried Has The Hair Of A Mythological...   \n",
       "3 2017-10-18     How To Profit From The Coming Trump Apocalypse   \n",
       "4 2015-05-29  The Third Option: More Than Both Having and Ea...   \n",
       "\n",
       "                                                link  \\\n",
       "0  https://www.huffingtonpost.com/entry/doughnut-...   \n",
       "1  https://www.huffingtonpost.com/entry/wisconsin...   \n",
       "2  https://www.huffingtonpost.com/entry/amanda-se...   \n",
       "3  https://www.huffingtonpost.com/entry/how-to-pr...   \n",
       "4  https://www.huffingtonpost.com/entry/the-third...   \n",
       "\n",
       "                                   short_description  \n",
       "0       Do-nut lie, this dress is making you hungry.  \n",
       "1                                                     \n",
       "2  It can attain that impossible state between wa...  \n",
       "3  Somebody ought to write a self-help book for R...  \n",
       "4  When making a decision, it often feels like th...  "
      ]
     },
     "execution_count": 5,
     "metadata": {},
     "output_type": "execute_result"
    }
   ],
   "source": [
    "df.head()"
   ]
  },
  {
   "cell_type": "code",
   "execution_count": 6,
   "metadata": {},
   "outputs": [
    {
     "data": {
      "text/plain": [
       "array(['STYLE', 'CRIME', 'STYLE & BEAUTY', 'POLITICS', 'WOMEN',\n",
       "       'WELLNESS', 'ENTERTAINMENT', 'FOOD & DRINK', 'HOME & LIVING',\n",
       "       'TRAVEL', 'DIVORCE', 'SCIENCE', 'BLACK VOICES', 'QUEER VOICES',\n",
       "       'TECH', 'PARENTING', 'BUSINESS', 'COLLEGE', 'ARTS & CULTURE',\n",
       "       'GREEN', 'SPORTS', 'WORLDPOST', 'HEALTHY LIVING', 'THE WORLDPOST',\n",
       "       'PARENTS', 'WEIRD NEWS', 'COMEDY', 'GOOD NEWS', 'WORLD NEWS',\n",
       "       'TASTE', 'RELIGION', 'CULTURE & ARTS', 'ARTS', 'WEDDINGS', 'MONEY',\n",
       "       'IMPACT', 'MEDIA', 'EDUCATION', 'FIFTY', 'LATINO VOICES',\n",
       "       'ENVIRONMENT'], dtype=object)"
      ]
     },
     "execution_count": 6,
     "metadata": {},
     "output_type": "execute_result"
    }
   ],
   "source": [
    "df.category.unique()"
   ]
  },
  {
   "cell_type": "code",
   "execution_count": 7,
   "metadata": {},
   "outputs": [],
   "source": [
    "df.category = df.category.map(lambda x: \"WORLDPOST\" if x == \"THE WORLDPOST\" else x)"
   ]
  },
  {
   "cell_type": "code",
   "execution_count": 8,
   "metadata": {},
   "outputs": [],
   "source": [
    "df['text'] = df['headline'] +'. ' +df['short_description']\n"
   ]
  },
  {
   "cell_type": "code",
   "execution_count": 9,
   "metadata": {},
   "outputs": [
    {
     "data": {
      "text/html": [
       "<div>\n",
       "<style scoped>\n",
       "    .dataframe tbody tr th:only-of-type {\n",
       "        vertical-align: middle;\n",
       "    }\n",
       "\n",
       "    .dataframe tbody tr th {\n",
       "        vertical-align: top;\n",
       "    }\n",
       "\n",
       "    .dataframe thead th {\n",
       "        text-align: right;\n",
       "    }\n",
       "</style>\n",
       "<table border=\"1\" class=\"dataframe\">\n",
       "  <thead>\n",
       "    <tr style=\"text-align: right;\">\n",
       "      <th></th>\n",
       "      <th>index</th>\n",
       "      <th>authors</th>\n",
       "      <th>category</th>\n",
       "      <th>date</th>\n",
       "      <th>headline</th>\n",
       "      <th>link</th>\n",
       "      <th>short_description</th>\n",
       "      <th>text</th>\n",
       "    </tr>\n",
       "  </thead>\n",
       "  <tbody>\n",
       "    <tr>\n",
       "      <th>0</th>\n",
       "      <td>33886</td>\n",
       "      <td>Jamie Feldman</td>\n",
       "      <td>STYLE</td>\n",
       "      <td>2017-02-20</td>\n",
       "      <td>Feast Your Eyes On This Bonkers Doughnut Dress...</td>\n",
       "      <td>https://www.huffingtonpost.com/entry/doughnut-...</td>\n",
       "      <td>Do-nut lie, this dress is making you hungry.</td>\n",
       "      <td>Feast Your Eyes On This Bonkers Doughnut Dress...</td>\n",
       "    </tr>\n",
       "    <tr>\n",
       "      <th>1</th>\n",
       "      <td>123481</td>\n",
       "      <td>Andres Jauregui</td>\n",
       "      <td>CRIME</td>\n",
       "      <td>2014-05-06</td>\n",
       "      <td>Wisconsin Boy, 3, Shoots Self In Head With Mom...</td>\n",
       "      <td>https://www.huffingtonpost.com/entry/wisconsin...</td>\n",
       "      <td></td>\n",
       "      <td>Wisconsin Boy, 3, Shoots Self In Head With Mom...</td>\n",
       "    </tr>\n",
       "    <tr>\n",
       "      <th>2</th>\n",
       "      <td>137561</td>\n",
       "      <td>Megan Mayer</td>\n",
       "      <td>STYLE &amp; BEAUTY</td>\n",
       "      <td>2013-12-03</td>\n",
       "      <td>Amanda Seyfried Has The Hair Of A Mythological...</td>\n",
       "      <td>https://www.huffingtonpost.com/entry/amanda-se...</td>\n",
       "      <td>It can attain that impossible state between wa...</td>\n",
       "      <td>Amanda Seyfried Has The Hair Of A Mythological...</td>\n",
       "    </tr>\n",
       "    <tr>\n",
       "      <th>3</th>\n",
       "      <td>13825</td>\n",
       "      <td>Richard (RJ) Eskow, ContributorHost of 'The Ze...</td>\n",
       "      <td>POLITICS</td>\n",
       "      <td>2017-10-18</td>\n",
       "      <td>How To Profit From The Coming Trump Apocalypse</td>\n",
       "      <td>https://www.huffingtonpost.com/entry/how-to-pr...</td>\n",
       "      <td>Somebody ought to write a self-help book for R...</td>\n",
       "      <td>How To Profit From The Coming Trump Apocalypse...</td>\n",
       "    </tr>\n",
       "    <tr>\n",
       "      <th>4</th>\n",
       "      <td>89695</td>\n",
       "      <td>Kimberly Inskeep, ContributorPresident &amp; Chief...</td>\n",
       "      <td>WOMEN</td>\n",
       "      <td>2015-05-29</td>\n",
       "      <td>The Third Option: More Than Both Having and Ea...</td>\n",
       "      <td>https://www.huffingtonpost.com/entry/the-third...</td>\n",
       "      <td>When making a decision, it often feels like th...</td>\n",
       "      <td>The Third Option: More Than Both Having and Ea...</td>\n",
       "    </tr>\n",
       "  </tbody>\n",
       "</table>\n",
       "</div>"
      ],
      "text/plain": [
       "    index                                            authors        category  \\\n",
       "0   33886                                      Jamie Feldman           STYLE   \n",
       "1  123481                                    Andres Jauregui           CRIME   \n",
       "2  137561                                        Megan Mayer  STYLE & BEAUTY   \n",
       "3   13825  Richard (RJ) Eskow, ContributorHost of 'The Ze...        POLITICS   \n",
       "4   89695  Kimberly Inskeep, ContributorPresident & Chief...           WOMEN   \n",
       "\n",
       "        date                                           headline  \\\n",
       "0 2017-02-20  Feast Your Eyes On This Bonkers Doughnut Dress...   \n",
       "1 2014-05-06  Wisconsin Boy, 3, Shoots Self In Head With Mom...   \n",
       "2 2013-12-03  Amanda Seyfried Has The Hair Of A Mythological...   \n",
       "3 2017-10-18     How To Profit From The Coming Trump Apocalypse   \n",
       "4 2015-05-29  The Third Option: More Than Both Having and Ea...   \n",
       "\n",
       "                                                link  \\\n",
       "0  https://www.huffingtonpost.com/entry/doughnut-...   \n",
       "1  https://www.huffingtonpost.com/entry/wisconsin...   \n",
       "2  https://www.huffingtonpost.com/entry/amanda-se...   \n",
       "3  https://www.huffingtonpost.com/entry/how-to-pr...   \n",
       "4  https://www.huffingtonpost.com/entry/the-third...   \n",
       "\n",
       "                                   short_description  \\\n",
       "0       Do-nut lie, this dress is making you hungry.   \n",
       "1                                                      \n",
       "2  It can attain that impossible state between wa...   \n",
       "3  Somebody ought to write a self-help book for R...   \n",
       "4  When making a decision, it often feels like th...   \n",
       "\n",
       "                                                text  \n",
       "0  Feast Your Eyes On This Bonkers Doughnut Dress...  \n",
       "1  Wisconsin Boy, 3, Shoots Self In Head With Mom...  \n",
       "2  Amanda Seyfried Has The Hair Of A Mythological...  \n",
       "3  How To Profit From The Coming Trump Apocalypse...  \n",
       "4  The Third Option: More Than Both Having and Ea...  "
      ]
     },
     "execution_count": 9,
     "metadata": {},
     "output_type": "execute_result"
    }
   ],
   "source": [
    "df.head()\n"
   ]
  },
  {
   "cell_type": "code",
   "execution_count": 10,
   "metadata": {},
   "outputs": [],
   "source": [
    "df = df[['text', 'category']]\n"
   ]
  },
  {
   "cell_type": "code",
   "execution_count": 11,
   "metadata": {},
   "outputs": [
    {
     "data": {
      "text/html": [
       "<div>\n",
       "<style scoped>\n",
       "    .dataframe tbody tr th:only-of-type {\n",
       "        vertical-align: middle;\n",
       "    }\n",
       "\n",
       "    .dataframe tbody tr th {\n",
       "        vertical-align: top;\n",
       "    }\n",
       "\n",
       "    .dataframe thead th {\n",
       "        text-align: right;\n",
       "    }\n",
       "</style>\n",
       "<table border=\"1\" class=\"dataframe\">\n",
       "  <thead>\n",
       "    <tr style=\"text-align: right;\">\n",
       "      <th></th>\n",
       "      <th>text</th>\n",
       "      <th>category</th>\n",
       "    </tr>\n",
       "  </thead>\n",
       "  <tbody>\n",
       "    <tr>\n",
       "      <th>0</th>\n",
       "      <td>Feast Your Eyes On This Bonkers Doughnut Dress...</td>\n",
       "      <td>STYLE</td>\n",
       "    </tr>\n",
       "    <tr>\n",
       "      <th>1</th>\n",
       "      <td>Wisconsin Boy, 3, Shoots Self In Head With Mom...</td>\n",
       "      <td>CRIME</td>\n",
       "    </tr>\n",
       "    <tr>\n",
       "      <th>2</th>\n",
       "      <td>Amanda Seyfried Has The Hair Of A Mythological...</td>\n",
       "      <td>STYLE &amp; BEAUTY</td>\n",
       "    </tr>\n",
       "    <tr>\n",
       "      <th>3</th>\n",
       "      <td>How To Profit From The Coming Trump Apocalypse...</td>\n",
       "      <td>POLITICS</td>\n",
       "    </tr>\n",
       "    <tr>\n",
       "      <th>4</th>\n",
       "      <td>The Third Option: More Than Both Having and Ea...</td>\n",
       "      <td>WOMEN</td>\n",
       "    </tr>\n",
       "  </tbody>\n",
       "</table>\n",
       "</div>"
      ],
      "text/plain": [
       "                                                text        category\n",
       "0  Feast Your Eyes On This Bonkers Doughnut Dress...           STYLE\n",
       "1  Wisconsin Boy, 3, Shoots Self In Head With Mom...           CRIME\n",
       "2  Amanda Seyfried Has The Hair Of A Mythological...  STYLE & BEAUTY\n",
       "3  How To Profit From The Coming Trump Apocalypse...        POLITICS\n",
       "4  The Third Option: More Than Both Having and Ea...           WOMEN"
      ]
     },
     "execution_count": 11,
     "metadata": {},
     "output_type": "execute_result"
    }
   ],
   "source": [
    "df.head()"
   ]
  },
  {
   "cell_type": "code",
   "execution_count": 12,
   "metadata": {},
   "outputs": [],
   "source": [
    "categories = df['category']\n",
    "text = df['text']"
   ]
  },
  {
   "cell_type": "code",
   "execution_count": 13,
   "metadata": {},
   "outputs": [
    {
     "name": "stdout",
     "output_type": "stream",
     "text": [
      "total categories: 40\n",
      "category\n",
      "ARTS               1509\n",
      "ARTS & CULTURE     1339\n",
      "BLACK VOICES       4528\n",
      "BUSINESS           5937\n",
      "COLLEGE            1144\n",
      "COMEDY             5175\n",
      "CRIME              3405\n",
      "CULTURE & ARTS     1030\n",
      "DIVORCE            3426\n",
      "EDUCATION          1004\n",
      "ENTERTAINMENT     16058\n",
      "ENVIRONMENT        1323\n",
      "FIFTY              1401\n",
      "FOOD & DRINK       6226\n",
      "GOOD NEWS          1398\n",
      "GREEN              2622\n",
      "HEALTHY LIVING     6694\n",
      "HOME & LIVING      4195\n",
      "IMPACT             3459\n",
      "LATINO VOICES      1129\n",
      "MEDIA              2815\n",
      "MONEY              1707\n",
      "PARENTING          8677\n",
      "PARENTS            3955\n",
      "POLITICS          32739\n",
      "QUEER VOICES       6314\n",
      "RELIGION           2556\n",
      "SCIENCE            2178\n",
      "SPORTS             4884\n",
      "STYLE              2254\n",
      "STYLE & BEAUTY     9649\n",
      "TASTE              2096\n",
      "TECH               2082\n",
      "TRAVEL             9887\n",
      "WEDDINGS           3651\n",
      "WEIRD NEWS         2670\n",
      "WELLNESS          17827\n",
      "WOMEN              3490\n",
      "WORLD NEWS         2177\n",
      "WORLDPOST          6243\n",
      "dtype: int64\n"
     ]
    }
   ],
   "source": [
    "cates = df.groupby('category')\n",
    "print(\"total categories:\", cates.ngroups)\n",
    "print(cates.size())"
   ]
  },
  {
   "cell_type": "code",
   "execution_count": 14,
   "metadata": {},
   "outputs": [],
   "source": [
    "import re\n",
    "def clean_str(string):\n",
    "    \"\"\"\n",
    "    Tokenization/string cleaning for dataset\n",
    "    Every dataset is lower cased except\n",
    "    \"\"\"\n",
    "    string = re.sub(r\"\\\\\", \"\", string)    \n",
    "    string = re.sub(r\"\\'\", \"\", string)    \n",
    "    string = re.sub(r\"\\\"\", \"\", string)    \n",
    "    return string.strip().lower()"
   ]
  },
  {
   "cell_type": "code",
   "execution_count": null,
   "metadata": {},
   "outputs": [],
   "source": [
    "import re\n",
    "\n",
    "# remove everything that starts with http \n",
    "data = df[['name', 'bodytxt', 'name_bodytxt']].applymap(lambda line: re.sub('http[s]?://\\S+', '', line))\n",
    "\n",
    "# remove everything within a () \n",
    "data = data[['name', 'bodytxt', 'name_bodytxt']].applymap(lambda line: re.sub(r\" ?\\([^)]+\\)\", \" \",  line))\n",
    "\n",
    "# remove everything within a []\n",
    "data = data[['name', 'bodytxt', 'name_bodytxt']].applymap(lambda line: re.sub(r'\\[[^()]*\\]', \" \",  line))\n",
    "\n",
    "cleaned_data = data['name_bodytxt']\n",
    "# cleaned_data = data['name_bodytxt'].apply(''.join).str.replace('[^A-Za-z\\s!.?]+', '')\n",
    "\n",
    "def _(sentence):\n",
    "    a = ['MPN', \"BSWAR\", \"EAN\", \"xxcm\", \"\\r\", \"\\n\"] #, \"Package Dimensions\", \"Product Dimensions\", \"mg\", \"mL\", \"\\xa0\"]\n",
    "    for val in a:\n",
    "        if val in sentence:\n",
    "            sentence = sentence.replace(val, \"\")\n",
    "    \n",
    "    # remove words that has only a character \n",
    "    sentence = re.sub(r'\\b\\w{1,1}\\b', '', sentence)\n",
    "    \n",
    "    # Typically, bodytxt has the form title, followed by product description. However, they are not differentiated into different sentences\n",
    "    sentence = sentence.replace(\"Product Description\", \". \")\n",
    "    sentence = sentence.replace(\"\\xa0\", \" \")\n",
    "    sentence = sentence.replace(\"-\", \" \")\n",
    "\n",
    "    return sentence\n",
    "\n",
    "processed_data = list(map(_, cleaned_data.values))\n"
   ]
  },
  {
   "cell_type": "code",
   "execution_count": null,
   "metadata": {},
   "outputs": [],
   "source": [
    "paras = []\n",
    "labels = []\n",
    "texts = []\n",
    "\n",
    "sent_lens = []\n",
    "sent_nums = []\n",
    "\n",
    "from nltk.corpus import stopwords\n",
    "stop_words = set(stopwords.words('english'))\n",
    "\n",
    "from nltk.stem import LancasterStemmer\n",
    "\n",
    "lancaster=LancasterStemmer()\n",
    "\n",
    "m = len(processed_data)\n",
    "\n",
    "labels = []\n",
    "\n",
    "for idx in range(m):\n",
    "    # print(\"{}/{}\".format(idx, m))\n",
    "    text = processed_data[idx]\n",
    "    \n",
    "    # texts.append(text)\n",
    "    sentences = tokenize.sent_tokenize(text)\n",
    "    \n",
    "\n",
    "    for i, sentence in enumerate(sentences):\n",
    "\n",
    "        # remove everything before a \\t\n",
    "        # Because everything before a \\t\\t\\t\\t might be meaningless \n",
    "        cond = sentence.find(\"\\t\")\n",
    "        if cond > 0:\n",
    "            sentences[i] = sentence[cond:]\n",
    "\n",
    "        # remove evrything after : \n",
    "        # because typically after a colon, you will see things such as Brand:, Product Dimensions: , etc \n",
    "        cond = sentence.find(\":\")\n",
    "        if cond > 0:\n",
    "            sentences[i] = sentence[:cond]\n",
    "\n",
    "        sentences[i] = sentence.replace(\"\\t\", \"\")  \n",
    "        \n",
    "        # lower case \n",
    "        sentences[i] = sentences[i].lower()\n",
    "        \n",
    "        \n",
    "    # -------------------------------------------------------\n",
    "    for i, sent in enumerate(sentences):\n",
    "        \n",
    "        # remove all non-alphanumeric characters \n",
    "        sent = re.sub('[^A-Za-z\\s]+', '', sent)\n",
    "        sentences[i] = sent\n",
    "        \n",
    "    # -------------------------------------------------------\n",
    "    \n",
    "    \n",
    "    \n",
    "    # -------------------------------------------------------\n",
    "    # remove any duplicate sentences\n",
    "    for i, sent in enumerate(sentences):\n",
    "        a = sent.split(\" \")\n",
    "        \n",
    "        # removal of unncessary space and single word charcter \n",
    "        a =[val for val in a if len(val)>1]\n",
    "        \n",
    "        # stopword removal \n",
    "        # a = [k for k in a if not k in stop_words]\n",
    "        \n",
    "        \"\"\"\n",
    "        # stemming\n",
    "        for c, word in enumerate(a):\n",
    "            a[c] = lancaster.stem(word)\n",
    "        \"\"\"\n",
    "        \n",
    "        \n",
    "        \n",
    "        sentences[i] = \" \".join(a)\n",
    "        \n",
    "    # sentences = list(set(sentences)) --> lose temporal information as set has no sequence\n",
    "    tmp = []\n",
    "    for s in sentences:\n",
    "        \n",
    "        \"\"\"\n",
    "        a = [] \n",
    "        \n",
    "        for val in s.split(\" \"):\n",
    "            if val not in absent_word:\n",
    "                a.append(val)\n",
    "        s = \" \".join(a)\n",
    "        \"\"\"\n",
    "        \n",
    "        if s not in tmp:\n",
    "            tmp.append(s)\n",
    "            \n",
    "    sentences = tmp \n",
    "    # -------------------------------------------------------\n",
    "    \n",
    "    \n",
    "    # -------------------------------------------------------\n",
    "    new_sentences = []\n",
    "    for sent in sentences:\n",
    "        # remove sentences with less than or equal to 1 word \n",
    "        if len(text_to_word_sequence(sent)) > 1:\n",
    "            new_sentences.append(sent) \n",
    "        else:\n",
    "            # print(sent)\n",
    "            pass\n",
    "    sentences = new_sentences\n",
    "    \n",
    "    sentences = sorted(sentences, key = lambda x: len(x.split()), reverse = True)\n",
    "        \n",
    "    \n",
    "    # skip the datapoint if len(sentences) == 0 \n",
    "    if len(sentences) == 0:\n",
    "        print(\"skipped: {}\".format(idx))\n",
    "        continue\n",
    "    \n",
    "    \n",
    "        \n",
    "    # REQUIRED to fit Tokenizer\n",
    "    texts.append(\"\".join(sentences))\n",
    "    \n",
    "\n",
    "        \n",
    "    sent_nums.append(len(sentences)) # num of sentences in the datapoint \n",
    "    for sent in sentences:\n",
    "        sent_lens.append(len(text_to_word_sequence(sent)))\n",
    "        \n",
    "    # our training data \n",
    "    paras.append(sentences)\n",
    "    \n",
    "    labels.append(df['category_number'].values[idx])\n"
   ]
  },
  {
   "cell_type": "code",
   "execution_count": 65,
   "metadata": {},
   "outputs": [
    {
     "data": {
      "text/plain": [
       "'Feast Your Eyes On This Bonkers Doughnut Dress At Fashion Week. Do-nut lie, this dress is making you hungry.'"
      ]
     },
     "execution_count": 65,
     "metadata": {},
     "output_type": "execute_result"
    }
   ],
   "source": [
    "df.iloc[0]['text']"
   ]
  },
  {
   "cell_type": "code",
   "execution_count": 15,
   "metadata": {},
   "outputs": [],
   "source": [
    "paras = []\n",
    "labels = []\n",
    "texts = []\n",
    "\n",
    "sent_lens = []\n",
    "sent_nums = []\n",
    "for idx in range(df.text.shape[0]):\n",
    "    text = clean_str(df.text[idx])\n",
    "    texts.append(text)\n",
    "    sentences = tokenize.sent_tokenize(text)\n",
    "    sent_nums.append(len(sentences))\n",
    "    for sent in sentences:\n",
    "        sent_lens.append(len(text_to_word_sequence(sent)))\n",
    "    paras.append(sentences)\n",
    "    "
   ]
  },
  {
   "cell_type": "code",
   "execution_count": 66,
   "metadata": {},
   "outputs": [
    {
     "data": {
      "text/plain": [
       "'feast your eyes on this bonkers doughnut dress at fashion week. do-nut lie, this dress is making you hungry.'"
      ]
     },
     "execution_count": 66,
     "metadata": {},
     "output_type": "execute_result"
    }
   ],
   "source": [
    "clean_str(df.iloc[0]['text'])"
   ]
  },
  {
   "cell_type": "code",
   "execution_count": 16,
   "metadata": {},
   "outputs": [
    {
     "data": {
      "text/plain": [
       "479927"
      ]
     },
     "execution_count": 16,
     "metadata": {},
     "output_type": "execute_result"
    }
   ],
   "source": [
    "# length of all the sentences, i.e sentence length\n",
    "len(sent_lens)"
   ]
  },
  {
   "cell_type": "code",
   "execution_count": 17,
   "metadata": {},
   "outputs": [
    {
     "data": {
      "image/png": "[encoded data removed]",
      "text/plain": [
       "<Figure size 432x288 with 1 Axes>"
      ]
     },
     "metadata": {
      "needs_background": "light"
     },
     "output_type": "display_data"
    }
   ],
   "source": [
    "sns.distplot(sent_lens, bins=200)\n",
    "plt.show()"
   ]
  },
  {
   "cell_type": "code",
   "execution_count": 18,
   "metadata": {},
   "outputs": [
    {
     "data": {
      "text/plain": [
       "200853"
      ]
     },
     "execution_count": 18,
     "metadata": {},
     "output_type": "execute_result"
    }
   ],
   "source": [
    "# how many sentences in each datapoint, where len(df) == len(sent_nums)\n",
    "len(sent_nums)"
   ]
  },
  {
   "cell_type": "code",
   "execution_count": 19,
   "metadata": {},
   "outputs": [
    {
     "name": "stderr",
     "output_type": "stream",
     "text": [
      "/home/karkin.mun/environments/ml_dir/lib/python3.5/site-packages/scipy/stats/stats.py:1857: FutureWarning: Using a non-tuple sequence for multidimensional indexing is deprecated; use `arr[tuple(seq)]` instead of `arr[seq]`. In the future this will be interpreted as an array index, `arr[np.array(seq)]`, which will result either in an error or a different result.\n",
      "  return np.add.reduce(sorted[indexer] * weights, axis=axis) / sumval\n"
     ]
    },
    {
     "data": {
      "image/png": "[encoded data removed]",
      "text/plain": [
       "<Figure size 432x288 with 1 Axes>"
      ]
     },
     "metadata": {
      "needs_background": "light"
     },
     "output_type": "display_data"
    }
   ],
   "source": [
    "sns.distplot(sent_nums)\n",
    "plt.show()"
   ]
  },
  {
   "cell_type": "code",
   "execution_count": 20,
   "metadata": {},
   "outputs": [
    {
     "name": "stdout",
     "output_type": "stream",
     "text": [
      "at johansson\n",
      "but if\n",
      "— david\n",
      "the hamilton creator\n",
      "gratisography\n",
      "bob mcdonnell\n",
      "and its\n"
     ]
    }
   ],
   "source": [
    "tokenizer = Tokenizer(num_words=max_features, oov_token=True)\n",
    "tokenizer.fit_on_texts(texts)\n",
    "\n",
    "data = np.zeros((len(texts), max_senten_num, max_senten_len), dtype='int32')\n",
    "for i, sentences in enumerate(paras):\n",
    "    for j, sent in enumerate(sentences):\n",
    "        if j< max_senten_num:\n",
    "            wordTokens = text_to_word_sequence(sent)\n",
    "            k=0\n",
    "            for _, word in enumerate(wordTokens):\n",
    "                try:\n",
    "                    if k<max_senten_len and tokenizer.word_index[word]<max_features:\n",
    "                        data[i,j,k] = tokenizer.word_index[word]\n",
    "                        k=k+1\n",
    "                except:\n",
    "                    print(word)\n",
    "                    pass\n",
    "                "
   ]
  },
  {
   "cell_type": "code",
   "execution_count": 21,
   "metadata": {},
   "outputs": [
    {
     "data": {
      "text/plain": [
       "'feast your eyes on this bonkers doughnut dress at fashion week. do-nut lie, this dress is making you hungry.'"
      ]
     },
     "execution_count": 21,
     "metadata": {},
     "output_type": "execute_result"
    }
   ],
   "source": [
    "texts[0]"
   ]
  },
  {
   "cell_type": "code",
   "execution_count": 22,
   "metadata": {},
   "outputs": [
    {
     "data": {
      "text/plain": [
       "array(['Feast Your Eyes On This Bonkers Doughnut Dress At Fashion Week. Do-nut lie, this dress is making you hungry.',\n",
       "       'STYLE'], dtype=object)"
      ]
     },
     "execution_count": 22,
     "metadata": {},
     "output_type": "execute_result"
    }
   ],
   "source": [
    "df.iloc[0].values"
   ]
  },
  {
   "cell_type": "code",
   "execution_count": 23,
   "metadata": {},
   "outputs": [
    {
     "data": {
      "text/plain": [
       "array([[ 4664,    19,   891,    11,    17, 10583, 12949,   437,    22,\n",
       "          238,    98,     0,     0,     0,     0,     0,     0,     0,\n",
       "            0,     0,     0,     0,     0,     0,     0,     0,     0,\n",
       "            0,     0,     0,     0,     0,     0,     0,     0,     0,\n",
       "            0,     0,     0,     0],\n",
       "       [   52,  8798,  2241,    17,   437,     8,   223,    12,  3476,\n",
       "            0,     0,     0,     0,     0,     0,     0,     0,     0,\n",
       "            0,     0,     0,     0,     0,     0,     0,     0,     0,\n",
       "            0,     0,     0,     0,     0,     0,     0,     0,     0,\n",
       "            0,     0,     0,     0],\n",
       "       [    0,     0,     0,     0,     0,     0,     0,     0,     0,\n",
       "            0,     0,     0,     0,     0,     0,     0,     0,     0,\n",
       "            0,     0,     0,     0,     0,     0,     0,     0,     0,\n",
       "            0,     0,     0,     0,     0,     0,     0,     0,     0,\n",
       "            0,     0,     0,     0],\n",
       "       [    0,     0,     0,     0,     0,     0,     0,     0,     0,\n",
       "            0,     0,     0,     0,     0,     0,     0,     0,     0,\n",
       "            0,     0,     0,     0,     0,     0,     0,     0,     0,\n",
       "            0,     0,     0,     0,     0,     0,     0,     0,     0,\n",
       "            0,     0,     0,     0],\n",
       "       [    0,     0,     0,     0,     0,     0,     0,     0,     0,\n",
       "            0,     0,     0,     0,     0,     0,     0,     0,     0,\n",
       "            0,     0,     0,     0,     0,     0,     0,     0,     0,\n",
       "            0,     0,     0,     0,     0,     0,     0,     0,     0,\n",
       "            0,     0,     0,     0],\n",
       "       [    0,     0,     0,     0,     0,     0,     0,     0,     0,\n",
       "            0,     0,     0,     0,     0,     0,     0,     0,     0,\n",
       "            0,     0,     0,     0,     0,     0,     0,     0,     0,\n",
       "            0,     0,     0,     0,     0,     0,     0,     0,     0,\n",
       "            0,     0,     0,     0]], dtype=int32)"
      ]
     },
     "execution_count": 23,
     "metadata": {},
     "output_type": "execute_result"
    }
   ],
   "source": [
    "data[0]"
   ]
  },
  {
   "cell_type": "code",
   "execution_count": 24,
   "metadata": {},
   "outputs": [
    {
     "data": {
      "text/plain": [
       "(200853, 6, 40)"
      ]
     },
     "execution_count": 24,
     "metadata": {},
     "output_type": "execute_result"
    }
   ],
   "source": [
    "data.shape\n"
   ]
  },
  {
   "cell_type": "code",
   "execution_count": 25,
   "metadata": {},
   "outputs": [
    {
     "name": "stdout",
     "output_type": "stream",
     "text": [
      "Total 100266 unique tokens.\n"
     ]
    }
   ],
   "source": [
    "word_index = tokenizer.word_index\n",
    "print('Total %s unique tokens.' % len(word_index))"
   ]
  },
  {
   "cell_type": "code",
   "execution_count": 26,
   "metadata": {},
   "outputs": [
    {
     "data": {
      "text/html": [
       "<div>\n",
       "<style scoped>\n",
       "    .dataframe tbody tr th:only-of-type {\n",
       "        vertical-align: middle;\n",
       "    }\n",
       "\n",
       "    .dataframe tbody tr th {\n",
       "        vertical-align: top;\n",
       "    }\n",
       "\n",
       "    .dataframe thead th {\n",
       "        text-align: right;\n",
       "    }\n",
       "</style>\n",
       "<table border=\"1\" class=\"dataframe\">\n",
       "  <thead>\n",
       "    <tr style=\"text-align: right;\">\n",
       "      <th></th>\n",
       "      <th>ARTS</th>\n",
       "      <th>ARTS &amp; CULTURE</th>\n",
       "      <th>BLACK VOICES</th>\n",
       "      <th>BUSINESS</th>\n",
       "      <th>COLLEGE</th>\n",
       "      <th>COMEDY</th>\n",
       "      <th>CRIME</th>\n",
       "      <th>CULTURE &amp; ARTS</th>\n",
       "      <th>DIVORCE</th>\n",
       "      <th>EDUCATION</th>\n",
       "      <th>...</th>\n",
       "      <th>STYLE &amp; BEAUTY</th>\n",
       "      <th>TASTE</th>\n",
       "      <th>TECH</th>\n",
       "      <th>TRAVEL</th>\n",
       "      <th>WEDDINGS</th>\n",
       "      <th>WEIRD NEWS</th>\n",
       "      <th>WELLNESS</th>\n",
       "      <th>WOMEN</th>\n",
       "      <th>WORLD NEWS</th>\n",
       "      <th>WORLDPOST</th>\n",
       "    </tr>\n",
       "  </thead>\n",
       "  <tbody>\n",
       "    <tr>\n",
       "      <th>0</th>\n",
       "      <td>0</td>\n",
       "      <td>0</td>\n",
       "      <td>0</td>\n",
       "      <td>0</td>\n",
       "      <td>0</td>\n",
       "      <td>0</td>\n",
       "      <td>0</td>\n",
       "      <td>0</td>\n",
       "      <td>0</td>\n",
       "      <td>0</td>\n",
       "      <td>...</td>\n",
       "      <td>0</td>\n",
       "      <td>0</td>\n",
       "      <td>0</td>\n",
       "      <td>0</td>\n",
       "      <td>0</td>\n",
       "      <td>0</td>\n",
       "      <td>0</td>\n",
       "      <td>0</td>\n",
       "      <td>0</td>\n",
       "      <td>0</td>\n",
       "    </tr>\n",
       "    <tr>\n",
       "      <th>1</th>\n",
       "      <td>0</td>\n",
       "      <td>0</td>\n",
       "      <td>0</td>\n",
       "      <td>0</td>\n",
       "      <td>0</td>\n",
       "      <td>0</td>\n",
       "      <td>1</td>\n",
       "      <td>0</td>\n",
       "      <td>0</td>\n",
       "      <td>0</td>\n",
       "      <td>...</td>\n",
       "      <td>0</td>\n",
       "      <td>0</td>\n",
       "      <td>0</td>\n",
       "      <td>0</td>\n",
       "      <td>0</td>\n",
       "      <td>0</td>\n",
       "      <td>0</td>\n",
       "      <td>0</td>\n",
       "      <td>0</td>\n",
       "      <td>0</td>\n",
       "    </tr>\n",
       "    <tr>\n",
       "      <th>2</th>\n",
       "      <td>0</td>\n",
       "      <td>0</td>\n",
       "      <td>0</td>\n",
       "      <td>0</td>\n",
       "      <td>0</td>\n",
       "      <td>0</td>\n",
       "      <td>0</td>\n",
       "      <td>0</td>\n",
       "      <td>0</td>\n",
       "      <td>0</td>\n",
       "      <td>...</td>\n",
       "      <td>1</td>\n",
       "      <td>0</td>\n",
       "      <td>0</td>\n",
       "      <td>0</td>\n",
       "      <td>0</td>\n",
       "      <td>0</td>\n",
       "      <td>0</td>\n",
       "      <td>0</td>\n",
       "      <td>0</td>\n",
       "      <td>0</td>\n",
       "    </tr>\n",
       "    <tr>\n",
       "      <th>3</th>\n",
       "      <td>0</td>\n",
       "      <td>0</td>\n",
       "      <td>0</td>\n",
       "      <td>0</td>\n",
       "      <td>0</td>\n",
       "      <td>0</td>\n",
       "      <td>0</td>\n",
       "      <td>0</td>\n",
       "      <td>0</td>\n",
       "      <td>0</td>\n",
       "      <td>...</td>\n",
       "      <td>0</td>\n",
       "      <td>0</td>\n",
       "      <td>0</td>\n",
       "      <td>0</td>\n",
       "      <td>0</td>\n",
       "      <td>0</td>\n",
       "      <td>0</td>\n",
       "      <td>0</td>\n",
       "      <td>0</td>\n",
       "      <td>0</td>\n",
       "    </tr>\n",
       "    <tr>\n",
       "      <th>4</th>\n",
       "      <td>0</td>\n",
       "      <td>0</td>\n",
       "      <td>0</td>\n",
       "      <td>0</td>\n",
       "      <td>0</td>\n",
       "      <td>0</td>\n",
       "      <td>0</td>\n",
       "      <td>0</td>\n",
       "      <td>0</td>\n",
       "      <td>0</td>\n",
       "      <td>...</td>\n",
       "      <td>0</td>\n",
       "      <td>0</td>\n",
       "      <td>0</td>\n",
       "      <td>0</td>\n",
       "      <td>0</td>\n",
       "      <td>0</td>\n",
       "      <td>0</td>\n",
       "      <td>1</td>\n",
       "      <td>0</td>\n",
       "      <td>0</td>\n",
       "    </tr>\n",
       "  </tbody>\n",
       "</table>\n",
       "<p>5 rows × 40 columns</p>\n",
       "</div>"
      ],
      "text/plain": [
       "   ARTS  ARTS & CULTURE  BLACK VOICES  BUSINESS  COLLEGE  COMEDY  CRIME  \\\n",
       "0     0               0             0         0        0       0      0   \n",
       "1     0               0             0         0        0       0      1   \n",
       "2     0               0             0         0        0       0      0   \n",
       "3     0               0             0         0        0       0      0   \n",
       "4     0               0             0         0        0       0      0   \n",
       "\n",
       "   CULTURE & ARTS  DIVORCE  EDUCATION  ...  STYLE & BEAUTY  TASTE  TECH  \\\n",
       "0               0        0          0  ...               0      0     0   \n",
       "1               0        0          0  ...               0      0     0   \n",
       "2               0        0          0  ...               1      0     0   \n",
       "3               0        0          0  ...               0      0     0   \n",
       "4               0        0          0  ...               0      0     0   \n",
       "\n",
       "   TRAVEL  WEDDINGS  WEIRD NEWS  WELLNESS  WOMEN  WORLD NEWS  WORLDPOST  \n",
       "0       0         0           0         0      0           0          0  \n",
       "1       0         0           0         0      0           0          0  \n",
       "2       0         0           0         0      0           0          0  \n",
       "3       0         0           0         0      0           0          0  \n",
       "4       0         0           0         0      1           0          0  \n",
       "\n",
       "[5 rows x 40 columns]"
      ]
     },
     "execution_count": 26,
     "metadata": {},
     "output_type": "execute_result"
    }
   ],
   "source": [
    "labels = pd.get_dummies(categories)\n",
    "labels.head()"
   ]
  },
  {
   "cell_type": "code",
   "execution_count": 27,
   "metadata": {},
   "outputs": [
    {
     "name": "stdout",
     "output_type": "stream",
     "text": [
      "Shape of data tensor: (200853, 6, 40)\n",
      "Shape of labels tensor: (200853, 40)\n"
     ]
    }
   ],
   "source": [
    "print('Shape of data tensor:', data.shape) # i.e. 200853 data points, 6 sentences, 40 words \n",
    "print('Shape of labels tensor:', labels.shape) # 40 different classes, one hot encoded "
   ]
  },
  {
   "cell_type": "code",
   "execution_count": 28,
   "metadata": {},
   "outputs": [],
   "source": [
    "indices = np.arange(data.shape[0])\n",
    "np.random.shuffle(indices)\n",
    "data = data[indices]\n",
    "labels = labels.iloc[indices]\n",
    "nb_validation_samples = int(VALIDATION_SPLIT * data.shape[0])\n",
    "\n",
    "x_train = data[:-nb_validation_samples]\n",
    "y_train = labels[:-nb_validation_samples]\n",
    "x_val = data[-nb_validation_samples:]\n",
    "y_val = labels[-nb_validation_samples:]"
   ]
  },
  {
   "cell_type": "code",
   "execution_count": 29,
   "metadata": {},
   "outputs": [],
   "source": [
    "REG_PARAM = 1e-13\n",
    "l2_reg = regularizers.l2(REG_PARAM)"
   ]
  },
  {
   "cell_type": "code",
   "execution_count": 30,
   "metadata": {},
   "outputs": [
    {
     "name": "stdout",
     "output_type": "stream",
     "text": [
      "Total 400000 word vectors.\n"
     ]
    }
   ],
   "source": [
    "GLOVE_DIR = \"glove.6B.100d.txt\"\n",
    "embeddings_index = {}\n",
    "f = open(GLOVE_DIR)\n",
    "for line in f:\n",
    "    try:\n",
    "        values = line.split()\n",
    "        word = values[0]\n",
    "        coefs = np.asarray(values[1:], dtype='float32')\n",
    "        embeddings_index[word] = coefs\n",
    "    except:\n",
    "        print(word)\n",
    "        pass\n",
    "f.close()\n",
    "print('Total %s word vectors.' % len(embeddings_index))"
   ]
  },
  {
   "cell_type": "code",
   "execution_count": 31,
   "metadata": {},
   "outputs": [
    {
     "name": "stdout",
     "output_type": "stream",
     "text": [
      "Total absent words are 27655 which is 27.58 % of total words\n"
     ]
    }
   ],
   "source": [
    "embedding_matrix = np.zeros((len(word_index) + 1, embed_size))\n",
    "absent_words = 0\n",
    "for word, i in word_index.items():\n",
    "    embedding_vector = embeddings_index.get(word)\n",
    "    if embedding_vector is not None:\n",
    "        # words not found in embedding index will be all-zeros.\n",
    "        embedding_matrix[i] = embedding_vector\n",
    "    else:\n",
    "        absent_words += 1\n",
    "print('Total absent words are', absent_words, 'which is', \"%0.2f\" % (absent_words * 100 / len(word_index)), '% of total words')"
   ]
  },
  {
   "attachments": {
    "image.png": {
     "image/png": "[encoded data removed]"
    }
   },
   "cell_type": "markdown",
   "metadata": {},
   "source": [
    "![image.png](attachment:image.png)"
   ]
  },
  {
   "cell_type": "code",
   "execution_count": 33,
   "metadata": {},
   "outputs": [],
   "source": [
    "embedding_layer = Embedding(len(word_index) + 1,embed_size,weights=[embedding_matrix], input_length=max_senten_len, trainable=False)\n",
    "word_input = Input(shape=(max_senten_len,), dtype='float32')\n",
    "word_sequences = embedding_layer(word_input)\n",
    "word_lstm = Bidirectional(LSTM(150, return_sequences=True, kernel_regularizer=l2_reg))(word_sequences)\n",
    "#word_dense = TimeDistributed(Dense(200, kernel_regularizer=l2_reg))(word_lstm)\n",
    "word_att = AttentionWithContext()(word_lstm)\n",
    "wordEncoder = Model(word_input, word_att)\n",
    "\n",
    "sent_input = Input(shape=(max_senten_num, max_senten_len), dtype='float32')\n",
    "sent_encoder = TimeDistributed(wordEncoder)(sent_input)\n",
    "sent_lstm = Bidirectional(LSTM(150, return_sequences=True, kernel_regularizer=l2_reg))(sent_encoder)\n",
    "#sent_dense = TimeDistributed(Dense(200, kernel_regularizer=l2_reg))(sent_lstm)\n",
    "sent_att = Dropout(0.5)(AttentionWithContext()(sent_lstm))\n",
    "preds = Dense(40, activation='softmax')(sent_att)\n",
    "model = Model(sent_input, preds)\n",
    "model.compile(loss='categorical_crossentropy',optimizer='adam',metrics=['acc'])\n",
    "\n"
   ]
  },
  {
   "cell_type": "code",
   "execution_count": 34,
   "metadata": {},
   "outputs": [],
   "source": [
    "import tensorflow as tf \n",
    "import pydotplus\n",
    "\n",
    "tf.keras.utils.plot_model(model, show_shapes=True, show_layer_names=True)"
   ]
  },
  {
   "cell_type": "code",
   "execution_count": 35,
   "metadata": {},
   "outputs": [],
   "source": [
    "from keras.callbacks import EarlyStopping\n",
    "\n",
    "checkpoint = ModelCheckpoint('HAN_test_best_model.h5', verbose=0, monitor='val_loss',save_best_only=True, mode='auto') \n",
    "es = EarlyStopping(monitor='val_loss', mode='min', patience = 4, verbose=1)"
   ]
  },
  {
   "cell_type": "code",
   "execution_count": 36,
   "metadata": {},
   "outputs": [
    {
     "name": "stdout",
     "output_type": "stream",
     "text": [
      "_________________________________________________________________\n",
      "Layer (type)                 Output Shape              Param #   \n",
      "=================================================================\n",
      "input_4 (InputLayer)         (None, 6, 40)             0         \n",
      "_________________________________________________________________\n",
      "time_distributed_2 (TimeDist (None, 6, 300)            10418500  \n",
      "_________________________________________________________________\n",
      "bidirectional_4 (Bidirection (None, 6, 300)            541200    \n",
      "_________________________________________________________________\n",
      "attention_with_context_4 (At (None, 300)               90600     \n",
      "_________________________________________________________________\n",
      "dropout_2 (Dropout)          (None, 300)               0         \n",
      "_________________________________________________________________\n",
      "dense_2 (Dense)              (None, 40)                12040     \n",
      "=================================================================\n",
      "Total params: 11,062,340\n",
      "Trainable params: 1,035,640\n",
      "Non-trainable params: 10,026,700\n",
      "_________________________________________________________________\n"
     ]
    }
   ],
   "source": [
    "model.summary()"
   ]
  },
  {
   "cell_type": "code",
   "execution_count": null,
   "metadata": {},
   "outputs": [],
   "source": []
  },
  {
   "cell_type": "code",
   "execution_count": 37,
   "metadata": {},
   "outputs": [
    {
     "name": "stdout",
     "output_type": "stream",
     "text": [
      "Train on 160683 samples, validate on 40170 samples\n",
      "Epoch 1/50\n",
      "160683/160683 [==============================] - 143s 890us/step - loss: 2.0678 - acc: 0.4552 - val_loss: 1.5669 - val_acc: 0.5654\n",
      "Epoch 2/50\n",
      "160683/160683 [==============================] - 122s 757us/step - loss: 1.5025 - acc: 0.5828 - val_loss: 1.3995 - val_acc: 0.6046\n",
      "Epoch 3/50\n",
      "160683/160683 [==============================] - 120s 749us/step - loss: 1.3782 - acc: 0.6112 - val_loss: 1.3339 - val_acc: 0.6175\n",
      "Epoch 4/50\n",
      "160683/160683 [==============================] - 121s 754us/step - loss: 1.2995 - acc: 0.6294 - val_loss: 1.2943 - val_acc: 0.6277\n",
      "Epoch 5/50\n",
      "160683/160683 [==============================] - 122s 759us/step - loss: 1.2373 - acc: 0.6436 - val_loss: 1.2645 - val_acc: 0.6348\n",
      "Epoch 6/50\n",
      "160683/160683 [==============================] - 120s 749us/step - loss: 1.1843 - acc: 0.6574 - val_loss: 1.2540 - val_acc: 0.6379\n",
      "Epoch 7/50\n",
      "160683/160683 [==============================] - 122s 758us/step - loss: 1.1379 - acc: 0.6678 - val_loss: 1.2349 - val_acc: 0.6432\n",
      "Epoch 8/50\n",
      "160683/160683 [==============================] - 119s 743us/step - loss: 1.0902 - acc: 0.6807 - val_loss: 1.2369 - val_acc: 0.6439\n",
      "Epoch 9/50\n",
      "160683/160683 [==============================] - 121s 751us/step - loss: 1.0494 - acc: 0.6907 - val_loss: 1.2250 - val_acc: 0.6454\n",
      "Epoch 10/50\n",
      "160683/160683 [==============================] - 120s 748us/step - loss: 1.0076 - acc: 0.7018 - val_loss: 1.2437 - val_acc: 0.6452\n",
      "Epoch 11/50\n",
      "160683/160683 [==============================] - 120s 746us/step - loss: 0.9661 - acc: 0.7137 - val_loss: 1.2518 - val_acc: 0.6451\n",
      "Epoch 12/50\n",
      "160683/160683 [==============================] - 119s 743us/step - loss: 0.9250 - acc: 0.7232 - val_loss: 1.2701 - val_acc: 0.6428\n",
      "Epoch 13/50\n",
      "160683/160683 [==============================] - 123s 764us/step - loss: 0.8861 - acc: 0.7345 - val_loss: 1.2772 - val_acc: 0.6405\n",
      "Epoch 00013: early stopping\n"
     ]
    }
   ],
   "source": [
    "history = model.fit(x_train, y_train, validation_data=(x_val, y_val), epochs=50, batch_size=512, callbacks=[es])"
   ]
  },
  {
   "cell_type": "code",
   "execution_count": 38,
   "metadata": {},
   "outputs": [
    {
     "name": "stdout",
     "output_type": "stream",
     "text": [
      "dict_keys(['loss', 'val_loss', 'acc', 'val_acc'])\n"
     ]
    }
   ],
   "source": [
    "print(history.history.keys())"
   ]
  },
  {
   "cell_type": "code",
   "execution_count": 39,
   "metadata": {},
   "outputs": [
    {
     "data": {
      "image/png": "[encoded data removed]",
      "text/plain": [
       "<Figure size 432x288 with 1 Axes>"
      ]
     },
     "metadata": {
      "needs_background": "light"
     },
     "output_type": "display_data"
    }
   ],
   "source": [
    "# summarize history for accuracy\n",
    "plt.plot(history.history['acc'])\n",
    "plt.plot(history.history['val_acc'])\n",
    "plt.title('model accuracy')\n",
    "plt.ylabel('accuracy')\n",
    "plt.xlabel('epoch')\n",
    "plt.legend(['train', 'test'], loc='upper left')\n",
    "plt.show()"
   ]
  },
  {
   "cell_type": "code",
   "execution_count": 40,
   "metadata": {},
   "outputs": [
    {
     "data": {
      "image/png": "[encoded data removed]",
      "text/plain": [
       "<Figure size 432x288 with 1 Axes>"
      ]
     },
     "metadata": {
      "needs_background": "light"
     },
     "output_type": "display_data"
    }
   ],
   "source": [
    "# summarize history for loss\n",
    "plt.plot(history.history['loss'])\n",
    "plt.plot(history.history['val_loss'])\n",
    "plt.title('model loss')\n",
    "plt.ylabel('loss')\n",
    "plt.xlabel('epoch')\n",
    "plt.legend(['train', 'test'], loc='upper left')\n",
    "plt.show()"
   ]
  },
  {
   "cell_type": "code",
   "execution_count": null,
   "metadata": {},
   "outputs": [],
   "source": [
    "model.save('test_HAN.h5')"
   ]
  },
  {
   "cell_type": "code",
   "execution_count": null,
   "metadata": {},
   "outputs": [],
   "source": []
  },
  {
   "cell_type": "code",
   "execution_count": 61,
   "metadata": {},
   "outputs": [
    {
     "data": {
      "text/plain": [
       "<matplotlib.axes._subplots.AxesSubplot at 0x7fec725ec1d0>"
      ]
     },
     "execution_count": 61,
     "metadata": {},
     "output_type": "execute_result"
    },
    {
     "data": {
      "image/png": "[encoded data removed]",
      "text/plain": [
       "<Figure size 432x288 with 2 Axes>"
      ]
     },
     "metadata": {
      "needs_background": "light"
     },
     "output_type": "display_data"
    }
   ],
   "source": [
    "import seaborn as sns\n",
    "\n",
    "sns.heatmap(model.layers[3].get_weights()[0][:10, :10])"
   ]
  },
  {
   "cell_type": "code",
   "execution_count": 51,
   "metadata": {},
   "outputs": [],
   "source": [
    "from keras import backend as K\n",
    "get_3rd_layer_output = K.function([model.layers[0].input],\n",
    "                                  [model.layers[3].output])\n"
   ]
  },
  {
   "cell_type": "code",
   "execution_count": null,
   "metadata": {},
   "outputs": [],
   "source": []
  },
  {
   "cell_type": "code",
   "execution_count": null,
   "metadata": {},
   "outputs": [],
   "source": []
  },
  {
   "cell_type": "code",
   "execution_count": null,
   "metadata": {},
   "outputs": [],
   "source": []
  }
 ],
 "metadata": {
  "kernelspec": {
   "display_name": "Python 3",
   "language": "python",
   "name": "python3"
  },
  "language_info": {
   "codemirror_mode": {
    "name": "ipython",
    "version": 3
   },
   "file_extension": ".py",
   "mimetype": "text/x-python",
   "name": "python",
   "nbconvert_exporter": "python",
   "pygments_lexer": "ipython3",
   "version": "3.5.2"
  }
 },
 "nbformat": 4,
 "nbformat_minor": 2
}
